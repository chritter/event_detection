{
 "cells": [
  {
   "cell_type": "markdown",
   "metadata": {},
   "source": [
    "# I. Data extraction/preparation"
   ]
  },
  {
   "cell_type": "code",
   "execution_count": 1,
   "metadata": {},
   "outputs": [],
   "source": [
    "import json\n",
    "import numpy as np\n",
    "import pandas as pd\n",
    "\n",
    "import pandas as pd\n",
    "pd.set_option('display.max_rows', 500)\n",
    "pd.set_option('display.max_columns', 500)\n",
    "pd.set_option('display.width', 1000)\n",
    "pd.set_option('max_colwidth', 800)\n",
    "from ast import literal_eval\n",
    "\n",
    "\n",
    "import matplotlib.pyplot as plt\n",
    "%matplotlib inline"
   ]
  },
  {
   "cell_type": "code",
   "execution_count": 25,
   "metadata": {},
   "outputs": [],
   "source": [
    "data_path = './Data'"
   ]
  },
  {
   "cell_type": "code",
   "execution_count": 26,
   "metadata": {},
   "outputs": [],
   "source": [
    "file= data_path +'/osfstorage-archive/replicationdata/experiment_data.json'"
   ]
  },
  {
   "cell_type": "code",
   "execution_count": 27,
   "metadata": {},
   "outputs": [],
   "source": [
    "with open(file) as f:\n",
    "    data = json.load(f)"
   ]
  },
  {
   "cell_type": "code",
   "execution_count": 28,
   "metadata": {},
   "outputs": [
    {
     "data": {
      "text/plain": [
       "dict_keys(['meta_split', 'holdin_instances', 'holdin_labels', 'meta_holdin_indices', 'holdout_instances', 'holdout_labels', 'meta_holdout_indices', 'meta_stats_alldata', 'meta_stats_holdin', 'meta_stats_holdout'])"
      ]
     },
     "execution_count": 28,
     "metadata": {},
     "output_type": "execute_result"
    }
   ],
   "source": [
    "data.keys()"
   ]
  },
  {
   "cell_type": "code",
   "execution_count": 29,
   "metadata": {},
   "outputs": [
    {
     "data": {
      "text/plain": [
       "{'function': 'sklearn.model_selection.train_test_split',\n",
       " 'random_state': 92,\n",
       " 'test_size': 0.1,\n",
       " 'shuffle': True,\n",
       " 'date': '2017-12-15_16:14:1513350895'}"
      ]
     },
     "execution_count": 29,
     "metadata": {},
     "output_type": "execute_result"
    }
   ],
   "source": [
    "data['meta_split']"
   ]
  },
  {
   "cell_type": "markdown",
   "metadata": {},
   "source": [
    "### All data"
   ]
  },
  {
   "cell_type": "code",
   "execution_count": 30,
   "metadata": {},
   "outputs": [
    {
     "data": {
      "text/plain": [
       "['-1',\n",
       " 'Profit',\n",
       " 'Dividend',\n",
       " 'MergerAcquisition',\n",
       " 'SalesVolume',\n",
       " 'BuyRating',\n",
       " 'QuarterlyResults',\n",
       " 'TargetPrice',\n",
       " 'ShareRepurchase',\n",
       " 'Turnover',\n",
       " 'Debt']"
      ]
     },
     "execution_count": 30,
     "metadata": {},
     "output_type": "execute_result"
    }
   ],
   "source": [
    "list(data['meta_stats_alldata']['label_count'].keys())"
   ]
  },
  {
   "cell_type": "markdown",
   "metadata": {},
   "source": [
    "### Holdin data: Sentence-level classification"
   ]
  },
  {
   "cell_type": "code",
   "execution_count": 31,
   "metadata": {},
   "outputs": [
    {
     "data": {
      "text/plain": [
       "(list, 8943)"
      ]
     },
     "execution_count": 31,
     "metadata": {},
     "output_type": "execute_result"
    }
   ],
   "source": [
    "type(data['holdin_instances']),len(data['holdin_instances'])"
   ]
  },
  {
   "cell_type": "code",
   "execution_count": 32,
   "metadata": {},
   "outputs": [
    {
     "data": {
      "text/plain": [
       "['It will not say what it has spent on the project , but it is unlikely to be a large share of the annual pound(s)3bn capex bill .',\n",
       " \"Sir John Bond , chairman , told the bank 's annual meeting that recent rises in interest rates and a slowing housing market were affecting consumer confidence and the level of bad debts .\",\n",
       " 'Unilever was criticised by shareholders at its annual meeting in London last month for the lack of diversity on its board .']"
      ]
     },
     "execution_count": 32,
     "metadata": {},
     "output_type": "execute_result"
    }
   ],
   "source": [
    "data['holdin_instances'][:3]"
   ]
  },
  {
   "cell_type": "code",
   "execution_count": 33,
   "metadata": {},
   "outputs": [
    {
     "data": {
      "text/plain": [
       "(list, 8943)"
      ]
     },
     "execution_count": 33,
     "metadata": {},
     "output_type": "execute_result"
    }
   ],
   "source": [
    "type(data['holdin_instances']),len(data['holdin_instances'])"
   ]
  },
  {
   "cell_type": "code",
   "execution_count": 34,
   "metadata": {},
   "outputs": [
    {
     "data": {
      "text/plain": [
       "(list, 8943)"
      ]
     },
     "execution_count": 34,
     "metadata": {},
     "output_type": "execute_result"
    }
   ],
   "source": [
    "type(data['holdin_labels']),len(data['holdin_labels'])"
   ]
  },
  {
   "cell_type": "code",
   "execution_count": 35,
   "metadata": {},
   "outputs": [
    {
     "data": {
      "text/plain": [
       "[-1,\n",
       " -1,\n",
       " -1,\n",
       " -1,\n",
       " -1,\n",
       " -1,\n",
       " -1,\n",
       " -1,\n",
       " -1,\n",
       " ['ShareRepurchase'],\n",
       " -1,\n",
       " -1,\n",
       " -1,\n",
       " -1,\n",
       " -1,\n",
       " ['Profit'],\n",
       " ['QuarterlyResults', 'Profit'],\n",
       " -1,\n",
       " -1,\n",
       " ['Dividend']]"
      ]
     },
     "execution_count": 35,
     "metadata": {},
     "output_type": "execute_result"
    }
   ],
   "source": [
    "data['holdin_labels'][:20]"
   ]
  },
  {
   "cell_type": "code",
   "execution_count": 36,
   "metadata": {},
   "outputs": [],
   "source": [
    "label_types=[]\n",
    "for llabel in data['holdin_labels']:\n",
    "    if type(llabel)==list:\n",
    "        for llabel1 in llabel:\n",
    "            if not llabel1 in label_types:\n",
    "                label_types.append(llabel1)\n",
    "            \n",
    "    else:\n",
    "        if not llabel==-1:\n",
    "            print('error')"
   ]
  },
  {
   "cell_type": "code",
   "execution_count": 37,
   "metadata": {},
   "outputs": [
    {
     "data": {
      "text/plain": [
       "['ShareRepurchase',\n",
       " 'Profit',\n",
       " 'QuarterlyResults',\n",
       " 'Dividend',\n",
       " 'BuyRating',\n",
       " 'SalesVolume',\n",
       " 'Turnover',\n",
       " 'MergerAcquisition',\n",
       " 'TargetPrice',\n",
       " 'Debt']"
      ]
     },
     "execution_count": 37,
     "metadata": {},
     "output_type": "execute_result"
    }
   ],
   "source": [
    "label_types"
   ]
  },
  {
   "cell_type": "code",
   "execution_count": 38,
   "metadata": {},
   "outputs": [
    {
     "data": {
      "text/plain": [
       "8943"
      ]
     },
     "execution_count": 38,
     "metadata": {},
     "output_type": "execute_result"
    }
   ],
   "source": [
    "len(data['meta_holdin_indices'])"
   ]
  },
  {
   "cell_type": "code",
   "execution_count": 39,
   "metadata": {},
   "outputs": [
    {
     "data": {
      "text/plain": [
       "[5750, 4305, 7684, 5360, 1887]"
      ]
     },
     "execution_count": 39,
     "metadata": {},
     "output_type": "execute_result"
    }
   ],
   "source": [
    "data['meta_holdin_indices'][:5]"
   ]
  },
  {
   "cell_type": "markdown",
   "metadata": {},
   "source": [
    "### Combine data"
   ]
  },
  {
   "cell_type": "code",
   "execution_count": 40,
   "metadata": {},
   "outputs": [],
   "source": [
    "sentences = data['holdin_instances'] + data['holdout_instances']\n",
    "labels = data['holdin_labels'] + data['holdout_labels']\n",
    "datatype = len(data['holdin_labels'])*['holdin']+len(data['holdout_labels'])*['holdout']"
   ]
  },
  {
   "cell_type": "code",
   "execution_count": 41,
   "metadata": {},
   "outputs": [],
   "source": [
    "df = pd.DataFrame({'sentence':sentences,'label':labels,'datatype':datatype})"
   ]
  },
  {
   "cell_type": "code",
   "execution_count": 42,
   "metadata": {},
   "outputs": [
    {
     "data": {
      "text/html": [
       "<div>\n",
       "<style scoped>\n",
       "    .dataframe tbody tr th:only-of-type {\n",
       "        vertical-align: middle;\n",
       "    }\n",
       "\n",
       "    .dataframe tbody tr th {\n",
       "        vertical-align: top;\n",
       "    }\n",
       "\n",
       "    .dataframe thead th {\n",
       "        text-align: right;\n",
       "    }\n",
       "</style>\n",
       "<table border=\"1\" class=\"dataframe\">\n",
       "  <thead>\n",
       "    <tr style=\"text-align: right;\">\n",
       "      <th></th>\n",
       "      <th>sentence</th>\n",
       "      <th>label</th>\n",
       "      <th>datatype</th>\n",
       "    </tr>\n",
       "  </thead>\n",
       "  <tbody>\n",
       "    <tr>\n",
       "      <th>0</th>\n",
       "      <td>It will not say what it has spent on the project , but it is unlikely to be a large share of the annual pound(s)3bn capex bill .</td>\n",
       "      <td>-1</td>\n",
       "      <td>holdin</td>\n",
       "    </tr>\n",
       "    <tr>\n",
       "      <th>1</th>\n",
       "      <td>Sir John Bond , chairman , told the bank 's annual meeting that recent rises in interest rates and a slowing housing market were affecting consumer confidence and the level of bad debts .</td>\n",
       "      <td>-1</td>\n",
       "      <td>holdin</td>\n",
       "    </tr>\n",
       "    <tr>\n",
       "      <th>2</th>\n",
       "      <td>Unilever was criticised by shareholders at its annual meeting in London last month for the lack of diversity on its board .</td>\n",
       "      <td>-1</td>\n",
       "      <td>holdin</td>\n",
       "    </tr>\n",
       "    <tr>\n",
       "      <th>3</th>\n",
       "      <td>Mr Sarin 's statement came as he announced that he planned to step down as chief executive in July from the world 's largest mobile operator by revenue , and that Vittorio Colao , Vodafone 's deputy chief executive , would succeed him .</td>\n",
       "      <td>-1</td>\n",
       "      <td>holdin</td>\n",
       "    </tr>\n",
       "    <tr>\n",
       "      <th>4</th>\n",
       "      <td>BASF was advised by Deutsche Bank .</td>\n",
       "      <td>-1</td>\n",
       "      <td>holdin</td>\n",
       "    </tr>\n",
       "  </tbody>\n",
       "</table>\n",
       "</div>"
      ],
      "text/plain": [
       "                                                                                                                                                                                                                                       sentence label datatype\n",
       "0                                                                                                              It will not say what it has spent on the project , but it is unlikely to be a large share of the annual pound(s)3bn capex bill .    -1   holdin\n",
       "1                                                   Sir John Bond , chairman , told the bank 's annual meeting that recent rises in interest rates and a slowing housing market were affecting consumer confidence and the level of bad debts .    -1   holdin\n",
       "2                                                                                                                   Unilever was criticised by shareholders at its annual meeting in London last month for the lack of diversity on its board .    -1   holdin\n",
       "3  Mr Sarin 's statement came as he announced that he planned to step down as chief executive in July from the world 's largest mobile operator by revenue , and that Vittorio Colao , Vodafone 's deputy chief executive , would succeed him .    -1   holdin\n",
       "4                                                                                                                                                                                                           BASF was advised by Deutsche Bank .    -1   holdin"
      ]
     },
     "execution_count": 42,
     "metadata": {},
     "output_type": "execute_result"
    }
   ],
   "source": [
    "df.head()"
   ]
  },
  {
   "cell_type": "markdown",
   "metadata": {},
   "source": [
    "### Add article id, publication and full article text belonging to the sentence by using  the full articles annotated by the Brat tool."
   ]
  },
  {
   "cell_type": "code",
   "execution_count": 44,
   "metadata": {},
   "outputs": [],
   "source": [
    "import os\n",
    "title=[]\n",
    "file_content=[]\n",
    "date=[]\n",
    "file_id=[]\n",
    "for i,file in enumerate(os.listdir(data_path+\"/osfstorage-archive/bratannotationfiles\")):\n",
    "    if file.endswith(\".txt\"):\n",
    "        file_name=os.path.join(data_path+\"/osfstorage-archive/bratannotationfiles\", file)\n",
    "        ftmp = file_name[:-4].split('/')[-1]\n",
    "        title.append((' '.join(ftmp.split('_')[:-1]).strip()))\n",
    "        date.append(ftmp.split('_')[-1])\n",
    "        file_id.append(i)\n",
    "        with open(file_name) as f:\n",
    "            lines = f.readlines()\n",
    "            lines = ' '.join(lines)\n",
    "            file_content.append(lines.replace('\\n',''))"
   ]
  },
  {
   "cell_type": "code",
   "execution_count": 45,
   "metadata": {},
   "outputs": [],
   "source": [
    "df_full_corpus=pd.DataFrame({'file_id':file_id,'title':title,'date':date,'text':file_content})"
   ]
  },
  {
   "cell_type": "code",
   "execution_count": 46,
   "metadata": {},
   "outputs": [
    {
     "data": {
      "text/html": [
       "<div>\n",
       "<style scoped>\n",
       "    .dataframe tbody tr th:only-of-type {\n",
       "        vertical-align: middle;\n",
       "    }\n",
       "\n",
       "    .dataframe tbody tr th {\n",
       "        vertical-align: top;\n",
       "    }\n",
       "\n",
       "    .dataframe thead th {\n",
       "        text-align: right;\n",
       "    }\n",
       "</style>\n",
       "<table border=\"1\" class=\"dataframe\">\n",
       "  <thead>\n",
       "    <tr style=\"text-align: right;\">\n",
       "      <th></th>\n",
       "      <th>file_id</th>\n",
       "      <th>title</th>\n",
       "      <th>date</th>\n",
       "      <th>text</th>\n",
       "    </tr>\n",
       "  </thead>\n",
       "  <tbody>\n",
       "    <tr>\n",
       "      <th>0</th>\n",
       "      <td>1</td>\n",
       "      <td>british land looking to rebuild its portfolio</td>\n",
       "      <td>18-11-2009</td>\n",
       "      <td>British Land looking to rebuild its portfolio REAL ESTATE An improvement in retail rents offset a fall in demand for office space at British Land in the first half , as the property company that launched a pound(s)740m rights issue in February insisted it was back in acquisitive mode . Chris Grigg , chief executive , said yesterday that a fall in the number of retailers facing administration had helped boost net income from its retail portfolio by 2.7 per cent in the six months to September 30 , although a 2.3 per cent decline in office income reduced overall like-for-like rental income growth to 0.7 per cent over the period . The company , which last year wrote off more than pound(s)3bn from the value of its estate , saw its net asset value slide by 6.5 per cent over the six months . ...</td>\n",
       "    </tr>\n",
       "    <tr>\n",
       "      <th>1</th>\n",
       "      <td>3</td>\n",
       "      <td>vodafone prepares for smart move</td>\n",
       "      <td>6-11-2010</td>\n",
       "      <td>Vodafone prepares for smart move MOBILE &amp; TELECOMS ; News analysis ; Smartphones and sell-offs will head the group 's strategic review , writes Andrew Parker Vodafone will next Tuesday unveil the outcome of an eagerly-awaited strategic review of the mobile phone operator . Vittorio Colao , Vodafone 's chief executive , is expected to give a strong signal that he will sell more of the group 's minority stakes in overseas mobile operators He is also due to provide investors with Vodafone 's answer to the biggest question hanging over all mobile operators : how to secure long-term revenue growth from the surging consumer demand for smartphones . Mr Colao is enjoying better relations with shareholders than at the start of the year , when some were questioning his strategy . Investors are h...</td>\n",
       "    </tr>\n",
       "  </tbody>\n",
       "</table>\n",
       "</div>"
      ],
      "text/plain": [
       "   file_id                                          title        date                                                                                                                                                                                                                                                                                                                                                                                                                                                                                                                                                                                                                                                                                                                                                                                                                             text\n",
       "0        1  british land looking to rebuild its portfolio  18-11-2009  British Land looking to rebuild its portfolio REAL ESTATE An improvement in retail rents offset a fall in demand for office space at British Land in the first half , as the property company that launched a pound(s)740m rights issue in February insisted it was back in acquisitive mode . Chris Grigg , chief executive , said yesterday that a fall in the number of retailers facing administration had helped boost net income from its retail portfolio by 2.7 per cent in the six months to September 30 , although a 2.3 per cent decline in office income reduced overall like-for-like rental income growth to 0.7 per cent over the period . The company , which last year wrote off more than pound(s)3bn from the value of its estate , saw its net asset value slide by 6.5 per cent over the six months . ...\n",
       "1        3               vodafone prepares for smart move   6-11-2010  Vodafone prepares for smart move MOBILE & TELECOMS ; News analysis ; Smartphones and sell-offs will head the group 's strategic review , writes Andrew Parker Vodafone will next Tuesday unveil the outcome of an eagerly-awaited strategic review of the mobile phone operator . Vittorio Colao , Vodafone 's chief executive , is expected to give a strong signal that he will sell more of the group 's minority stakes in overseas mobile operators He is also due to provide investors with Vodafone 's answer to the biggest question hanging over all mobile operators : how to secure long-term revenue growth from the surging consumer demand for smartphones . Mr Colao is enjoying better relations with shareholders than at the start of the year , when some were questioning his strategy . Investors are h..."
      ]
     },
     "execution_count": 46,
     "metadata": {},
     "output_type": "execute_result"
    }
   ],
   "source": [
    "df_full_corpus.head(2)"
   ]
  },
  {
   "cell_type": "markdown",
   "metadata": {},
   "source": [
    "Link document meta data to sentences"
   ]
  },
  {
   "cell_type": "code",
   "execution_count": 48,
   "metadata": {},
   "outputs": [],
   "source": [
    "def find_doc(sentence):\n",
    "    for i,c in enumerate(file_content):\n",
    "        if sentence in c:\n",
    "            return title[i]\n",
    "    print('counld not find document')\n",
    "    return ''\n",
    "def find_doc2(sentence):\n",
    "    for i,c in enumerate(file_content):\n",
    "        if sentence in c:\n",
    "            return date[i]\n",
    "    print('counld not find document')\n",
    "    return ''\n",
    "def find_doc3(sentence):\n",
    "    for i,c in enumerate(file_content):\n",
    "        if sentence in c:\n",
    "            return file_id[i]\n",
    "    print('counld not find document')\n",
    "    return ''"
   ]
  },
  {
   "cell_type": "code",
   "execution_count": 51,
   "metadata": {},
   "outputs": [],
   "source": [
    "df['title'] = df['sentence'].apply(find_doc)\n",
    "df['publication_date'] = df['sentence'].apply(find_doc2)\n",
    "df['file_id'] = df['sentence'].apply(find_doc3)"
   ]
  },
  {
   "cell_type": "code",
   "execution_count": 52,
   "metadata": {},
   "outputs": [
    {
     "data": {
      "text/html": [
       "<div>\n",
       "<style scoped>\n",
       "    .dataframe tbody tr th:only-of-type {\n",
       "        vertical-align: middle;\n",
       "    }\n",
       "\n",
       "    .dataframe tbody tr th {\n",
       "        vertical-align: top;\n",
       "    }\n",
       "\n",
       "    .dataframe thead th {\n",
       "        text-align: right;\n",
       "    }\n",
       "</style>\n",
       "<table border=\"1\" class=\"dataframe\">\n",
       "  <thead>\n",
       "    <tr style=\"text-align: right;\">\n",
       "      <th></th>\n",
       "      <th>sentence</th>\n",
       "      <th>label</th>\n",
       "      <th>datatype</th>\n",
       "      <th>title</th>\n",
       "      <th>publication_date</th>\n",
       "      <th>file_id</th>\n",
       "    </tr>\n",
       "  </thead>\n",
       "  <tbody>\n",
       "    <tr>\n",
       "      <th>0</th>\n",
       "      <td>It will not say what it has spent on the project , but it is unlikely to be a large share of the annual pound(s)3bn capex bill .</td>\n",
       "      <td>-1</td>\n",
       "      <td>holdin</td>\n",
       "      <td>tesco</td>\n",
       "      <td>25-09-2013</td>\n",
       "      <td>833</td>\n",
       "    </tr>\n",
       "    <tr>\n",
       "      <th>1</th>\n",
       "      <td>Sir John Bond , chairman , told the bank 's annual meeting that recent rises in interest rates and a slowing housing market were affecting consumer confidence and the level of bad debts .</td>\n",
       "      <td>-1</td>\n",
       "      <td>holdin</td>\n",
       "      <td>FT other HSBC</td>\n",
       "      <td>28-05-2005</td>\n",
       "      <td>393</td>\n",
       "    </tr>\n",
       "    <tr>\n",
       "      <th>2</th>\n",
       "      <td>Unilever was criticised by shareholders at its annual meeting in London last month for the lack of diversity on its board .</td>\n",
       "      <td>-1</td>\n",
       "      <td>holdin</td>\n",
       "      <td>unilever to broaden mix of board food producers</td>\n",
       "      <td>24-06-2006</td>\n",
       "      <td>569</td>\n",
       "    </tr>\n",
       "    <tr>\n",
       "      <th>3</th>\n",
       "      <td>Mr Sarin 's statement came as he announced that he planned to step down as chief executive in July from the world 's largest mobile operator by revenue , and that Vittorio Colao , Vodafone 's deputy chief executive , would succeed him .</td>\n",
       "      <td>-1</td>\n",
       "      <td>holdin</td>\n",
       "      <td>sarin sees growth for vodafone in africa and asia as he heads for exit</td>\n",
       "      <td>28-05-2008</td>\n",
       "      <td>950</td>\n",
       "    </tr>\n",
       "    <tr>\n",
       "      <th>4</th>\n",
       "      <td>BASF was advised by Deutsche Bank .</td>\n",
       "      <td>-1</td>\n",
       "      <td>holdin</td>\n",
       "      <td>basf continues acquisition drive with $3bn agreed offer for ciba</td>\n",
       "      <td>16-09-2008</td>\n",
       "      <td>980</td>\n",
       "    </tr>\n",
       "  </tbody>\n",
       "</table>\n",
       "</div>"
      ],
      "text/plain": [
       "                                                                                                                                                                                                                                       sentence label datatype                                                                   title publication_date  file_id\n",
       "0                                                                                                              It will not say what it has spent on the project , but it is unlikely to be a large share of the annual pound(s)3bn capex bill .    -1   holdin                                                                   tesco       25-09-2013      833\n",
       "1                                                   Sir John Bond , chairman , told the bank 's annual meeting that recent rises in interest rates and a slowing housing market were affecting consumer confidence and the level of bad debts .    -1   holdin                                                           FT other HSBC       28-05-2005      393\n",
       "2                                                                                                                   Unilever was criticised by shareholders at its annual meeting in London last month for the lack of diversity on its board .    -1   holdin                         unilever to broaden mix of board food producers       24-06-2006      569\n",
       "3  Mr Sarin 's statement came as he announced that he planned to step down as chief executive in July from the world 's largest mobile operator by revenue , and that Vittorio Colao , Vodafone 's deputy chief executive , would succeed him .    -1   holdin  sarin sees growth for vodafone in africa and asia as he heads for exit       28-05-2008      950\n",
       "4                                                                                                                                                                                                           BASF was advised by Deutsche Bank .    -1   holdin        basf continues acquisition drive with $3bn agreed offer for ciba       16-09-2008      980"
      ]
     },
     "execution_count": 52,
     "metadata": {},
     "output_type": "execute_result"
    }
   ],
   "source": [
    "df.head()"
   ]
  },
  {
   "cell_type": "code",
   "execution_count": 53,
   "metadata": {},
   "outputs": [],
   "source": [
    "list_unique_labels = list(data['meta_stats_alldata']['label_count'].keys())"
   ]
  },
  {
   "cell_type": "code",
   "execution_count": 54,
   "metadata": {},
   "outputs": [
    {
     "data": {
      "text/plain": [
       "['-1',\n",
       " 'Profit',\n",
       " 'Dividend',\n",
       " 'MergerAcquisition',\n",
       " 'SalesVolume',\n",
       " 'BuyRating',\n",
       " 'QuarterlyResults',\n",
       " 'TargetPrice',\n",
       " 'ShareRepurchase',\n",
       " 'Turnover',\n",
       " 'Debt']"
      ]
     },
     "execution_count": 54,
     "metadata": {},
     "output_type": "execute_result"
    }
   ],
   "source": [
    "list_unique_labels"
   ]
  },
  {
   "cell_type": "code",
   "execution_count": 55,
   "metadata": {},
   "outputs": [],
   "source": [
    "for label1 in list_unique_labels:\n",
    "    df[label1] = 0"
   ]
  },
  {
   "cell_type": "code",
   "execution_count": 56,
   "metadata": {},
   "outputs": [],
   "source": [
    "def check_labels(row):\n",
    "    llabels = row['label']\n",
    "    if type(llabels) == list:\n",
    "        for lel in llabels:\n",
    "            row[lel] = 1\n",
    "    else:\n",
    "        if llabels == -1:\n",
    "            row['-1'] = 1\n",
    "    return row"
   ]
  },
  {
   "cell_type": "code",
   "execution_count": 57,
   "metadata": {},
   "outputs": [],
   "source": [
    "df_new = df.apply(check_labels,axis=1)"
   ]
  },
  {
   "cell_type": "markdown",
   "metadata": {},
   "source": [
    "### Quick Checks"
   ]
  },
  {
   "cell_type": "code",
   "execution_count": 58,
   "metadata": {},
   "outputs": [],
   "source": [
    "multi_labels = ['-1',\n",
    "       'Profit', 'Dividend', 'MergerAcquisition', 'SalesVolume', 'BuyRating',\n",
    "       'QuarterlyResults', 'TargetPrice', 'ShareRepurchase', 'Turnover',\n",
    "       'Debt']"
   ]
  },
  {
   "cell_type": "code",
   "execution_count": 59,
   "metadata": {},
   "outputs": [
    {
     "data": {
      "text/html": [
       "<div>\n",
       "<style scoped>\n",
       "    .dataframe tbody tr th:only-of-type {\n",
       "        vertical-align: middle;\n",
       "    }\n",
       "\n",
       "    .dataframe tbody tr th {\n",
       "        vertical-align: top;\n",
       "    }\n",
       "\n",
       "    .dataframe thead th {\n",
       "        text-align: right;\n",
       "    }\n",
       "</style>\n",
       "<table border=\"1\" class=\"dataframe\">\n",
       "  <thead>\n",
       "    <tr style=\"text-align: right;\">\n",
       "      <th></th>\n",
       "      <th>-1</th>\n",
       "      <th>Profit</th>\n",
       "      <th>Dividend</th>\n",
       "      <th>MergerAcquisition</th>\n",
       "      <th>SalesVolume</th>\n",
       "      <th>BuyRating</th>\n",
       "      <th>QuarterlyResults</th>\n",
       "      <th>TargetPrice</th>\n",
       "      <th>ShareRepurchase</th>\n",
       "      <th>Turnover</th>\n",
       "      <th>Debt</th>\n",
       "    </tr>\n",
       "  </thead>\n",
       "  <tbody>\n",
       "    <tr>\n",
       "      <th>0</th>\n",
       "      <td>2114</td>\n",
       "      <td>9286</td>\n",
       "      <td>9755</td>\n",
       "      <td>9684</td>\n",
       "      <td>9450</td>\n",
       "      <td>9710</td>\n",
       "      <td>9670</td>\n",
       "      <td>9843</td>\n",
       "      <td>9876</td>\n",
       "      <td>9697</td>\n",
       "      <td>9877</td>\n",
       "    </tr>\n",
       "    <tr>\n",
       "      <th>1</th>\n",
       "      <td>7823</td>\n",
       "      <td>651</td>\n",
       "      <td>182</td>\n",
       "      <td>253</td>\n",
       "      <td>487</td>\n",
       "      <td>227</td>\n",
       "      <td>267</td>\n",
       "      <td>94</td>\n",
       "      <td>61</td>\n",
       "      <td>240</td>\n",
       "      <td>60</td>\n",
       "    </tr>\n",
       "  </tbody>\n",
       "</table>\n",
       "</div>"
      ],
      "text/plain": [
       "     -1  Profit  Dividend  MergerAcquisition  SalesVolume  BuyRating  QuarterlyResults  TargetPrice  ShareRepurchase  Turnover  Debt\n",
       "0  2114    9286      9755               9684         9450       9710              9670         9843             9876      9697  9877\n",
       "1  7823     651       182                253          487        227               267           94               61       240    60"
      ]
     },
     "execution_count": 59,
     "metadata": {},
     "output_type": "execute_result"
    }
   ],
   "source": [
    "df_new[multi_labels].apply(pd.Series.value_counts)"
   ]
  },
  {
   "cell_type": "code",
   "execution_count": 60,
   "metadata": {},
   "outputs": [
    {
     "data": {
      "text/html": [
       "<div>\n",
       "<style scoped>\n",
       "    .dataframe tbody tr th:only-of-type {\n",
       "        vertical-align: middle;\n",
       "    }\n",
       "\n",
       "    .dataframe tbody tr th {\n",
       "        vertical-align: top;\n",
       "    }\n",
       "\n",
       "    .dataframe thead th {\n",
       "        text-align: right;\n",
       "    }\n",
       "</style>\n",
       "<table border=\"1\" class=\"dataframe\">\n",
       "  <thead>\n",
       "    <tr style=\"text-align: right;\">\n",
       "      <th></th>\n",
       "      <th>sentence</th>\n",
       "      <th>label</th>\n",
       "      <th>datatype</th>\n",
       "      <th>title</th>\n",
       "      <th>publication_date</th>\n",
       "      <th>file_id</th>\n",
       "      <th>-1</th>\n",
       "      <th>Profit</th>\n",
       "      <th>Dividend</th>\n",
       "      <th>MergerAcquisition</th>\n",
       "      <th>SalesVolume</th>\n",
       "      <th>BuyRating</th>\n",
       "      <th>QuarterlyResults</th>\n",
       "      <th>TargetPrice</th>\n",
       "      <th>ShareRepurchase</th>\n",
       "      <th>Turnover</th>\n",
       "      <th>Debt</th>\n",
       "    </tr>\n",
       "  </thead>\n",
       "  <tbody>\n",
       "    <tr>\n",
       "      <th>0</th>\n",
       "      <td>It will not say what it has spent on the project , but it is unlikely to be a large share of the annual pound(s)3bn capex bill .</td>\n",
       "      <td>-1</td>\n",
       "      <td>holdin</td>\n",
       "      <td>tesco</td>\n",
       "      <td>25-09-2013</td>\n",
       "      <td>833</td>\n",
       "      <td>1</td>\n",
       "      <td>0</td>\n",
       "      <td>0</td>\n",
       "      <td>0</td>\n",
       "      <td>0</td>\n",
       "      <td>0</td>\n",
       "      <td>0</td>\n",
       "      <td>0</td>\n",
       "      <td>0</td>\n",
       "      <td>0</td>\n",
       "      <td>0</td>\n",
       "    </tr>\n",
       "    <tr>\n",
       "      <th>1</th>\n",
       "      <td>Sir John Bond , chairman , told the bank 's annual meeting that recent rises in interest rates and a slowing housing market were affecting consumer confidence and the level of bad debts .</td>\n",
       "      <td>-1</td>\n",
       "      <td>holdin</td>\n",
       "      <td>FT other HSBC</td>\n",
       "      <td>28-05-2005</td>\n",
       "      <td>393</td>\n",
       "      <td>1</td>\n",
       "      <td>0</td>\n",
       "      <td>0</td>\n",
       "      <td>0</td>\n",
       "      <td>0</td>\n",
       "      <td>0</td>\n",
       "      <td>0</td>\n",
       "      <td>0</td>\n",
       "      <td>0</td>\n",
       "      <td>0</td>\n",
       "      <td>0</td>\n",
       "    </tr>\n",
       "  </tbody>\n",
       "</table>\n",
       "</div>"
      ],
      "text/plain": [
       "                                                                                                                                                                                      sentence label datatype          title publication_date  file_id  -1  Profit  Dividend  MergerAcquisition  SalesVolume  BuyRating  QuarterlyResults  TargetPrice  ShareRepurchase  Turnover  Debt\n",
       "0                                                             It will not say what it has spent on the project , but it is unlikely to be a large share of the annual pound(s)3bn capex bill .    -1   holdin          tesco       25-09-2013      833   1       0         0                  0            0          0                 0            0                0         0     0\n",
       "1  Sir John Bond , chairman , told the bank 's annual meeting that recent rises in interest rates and a slowing housing market were affecting consumer confidence and the level of bad debts .    -1   holdin  FT other HSBC       28-05-2005      393   1       0         0                  0            0          0                 0            0                0         0     0"
      ]
     },
     "execution_count": 60,
     "metadata": {},
     "output_type": "execute_result"
    }
   ],
   "source": [
    "df_new.head(2)"
   ]
  },
  {
   "cell_type": "code",
   "execution_count": 61,
   "metadata": {},
   "outputs": [],
   "source": [
    "df_new.to_csv('Data/jacobs_corpus.csv',index=False)"
   ]
  },
  {
   "cell_type": "code",
   "execution_count": null,
   "metadata": {},
   "outputs": [],
   "source": []
  }
 ],
 "metadata": {
  "kernelspec": {
   "display_name": "Python 3",
   "language": "python",
   "name": "python3"
  },
  "language_info": {
   "codemirror_mode": {
    "name": "ipython",
    "version": 3
   },
   "file_extension": ".py",
   "mimetype": "text/x-python",
   "name": "python",
   "nbconvert_exporter": "python",
   "pygments_lexer": "ipython3",
   "version": "3.6.7"
  }
 },
 "nbformat": 4,
 "nbformat_minor": 4
}
